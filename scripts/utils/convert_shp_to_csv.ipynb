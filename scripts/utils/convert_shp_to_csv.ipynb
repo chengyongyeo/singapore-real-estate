{
 "cells": [
  {
   "cell_type": "code",
   "execution_count": 2,
   "metadata": {},
   "outputs": [],
   "source": [
    "import geopandas as gpd\n",
    "import os"
   ]
  },
  {
   "cell_type": "code",
   "execution_count": null,
   "metadata": {},
   "outputs": [
    {
     "name": "stdout",
     "output_type": "stream",
     "text": [
      "/Users/chengyong/personal/singapore_real_estate\n"
     ]
    }
   ],
   "source": [
    "import os\n",
    "\n",
    "# Go up to folders to the root folder\n",
    "root_path = os.path.abspath(\"../..\")\n",
    "print(root_path)\n"
   ]
  },
  {
   "cell_type": "code",
   "execution_count": null,
   "metadata": {},
   "outputs": [
    {
     "name": "stdout",
     "output_type": "stream",
     "text": [
      "/Users/chengyong/personal/singapore_real_estate\n"
     ]
    }
   ],
   "source": [
    "# Load the Shapefile\n",
    "#path to shapefile\n",
    "shp_path = os.path.join(root_path, \"data\", \"bus_stops\", \"BusStop.shp\")\n",
    "df = gpd.read_file(shp_path)"
   ]
  },
  {
   "cell_type": "code",
   "execution_count": null,
   "metadata": {},
   "outputs": [],
   "source": []
  }
 ],
 "metadata": {
  "kernelspec": {
   "display_name": "Python 3 (ipykernel)",
   "language": "python",
   "name": "python3"
  },
  "language_info": {
   "codemirror_mode": {
    "name": "ipython",
    "version": 3
   },
   "file_extension": ".py",
   "mimetype": "text/x-python",
   "name": "python",
   "nbconvert_exporter": "python",
   "pygments_lexer": "ipython3",
   "version": "3.10.0"
  },
  "orig_nbformat": 4
 },
 "nbformat": 4,
 "nbformat_minor": 2
}
